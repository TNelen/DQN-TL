{
 "cells": [
  {
   "cell_type": "code",
   "execution_count": 1,
   "metadata": {},
   "outputs": [],
   "source": [
    "# import Flow's base scenario class\n",
    "from flow.scenarios import Scenario\n",
    "from flow.core.params import VehicleParams\n",
    "from flow.core.params import TrafficLightParams\n"
   ]
  },
  {
   "cell_type": "code",
   "execution_count": 2,
   "metadata": {},
   "outputs": [],
   "source": [
    "# define the scenario class, and inherit properties from the base scenario class\n",
    "class kruispuntc(Scenario):\n",
    "    pass"
   ]
  },
  {
   "cell_type": "code",
   "execution_count": 3,
   "metadata": {},
   "outputs": [],
   "source": [
    "ADDITIONAL_NET_PARAMS = {\n",
    "    \"num_lanes\": 1,\n",
    "    \"speed_limit\": 30,\n",
    "    \"traffic_lights\": True,\n",
    "}"
   ]
  },
  {
   "cell_type": "markdown",
   "metadata": {},
   "source": [
    "# specify nodes"
   ]
  },
  {
   "cell_type": "code",
   "execution_count": 4,
   "metadata": {},
   "outputs": [],
   "source": [
    "   class kruispuntc(kruispuntc): \n",
    "    def specify_nodes(self, net_params):\n",
    "        # specify the name and position (x,y) of each node\n",
    "        nodes = [{\"id\": \"center\", \"x\": 0,  \"y\": 0},\n",
    "                 {\"id\": \"left\",  \"x\": -40,  \"y\": 0},\n",
    "                 {\"id\": \"right\",\"x\": 40,  \"y\": 0},\n",
    "                 {\"id\": \"top\",    \"x\": 0,  \"y\": 40},\n",
    "                 {\"id\": \"bottom\",   \"x\": 0, \"y\": -40}]\n",
    "\n",
    "        return nodes"
   ]
  },
  {
   "cell_type": "markdown",
   "metadata": {},
   "source": [
    "# specify edges"
   ]
  },
  {
   "cell_type": "code",
   "execution_count": 5,
   "metadata": {},
   "outputs": [],
   "source": [
    "class kruispuntc(kruispuntc):\n",
    "    def specify_edges(self, net_params):\n",
    "        edgelen = 40\n",
    "        # this will let us control the number of lanes in the network\n",
    "        lanes = net_params.additional_params[\"num_lanes\"]\n",
    "        # speed limit of vehicles in the network\n",
    "        speed_limit = net_params.additional_params[\"speed_limit\"]\n",
    "\n",
    "        edges = [{\"id\": \"BC\", \"numLanes\": lanes, \"speed\": speed_limit,\n",
    "                  \"from\": \"bottom\", \"to\": \"center\", \"length\": edgelen},\n",
    "                 {\"id\": \"TC\", \"numLanes\": lanes, \"speed\": speed_limit,\n",
    "                  \"from\": \"top\", \"to\": \"center\", \"length\": edgelen},\n",
    "                 {\"id\": \"LC\", \"numLanes\": lanes, \"speed\": speed_limit,\n",
    "                  \"from\": \"left\", \"to\": \"center\", \"length\": edgelen},\n",
    "                 {\"id\": \"RC\", \"numLanes\": lanes, \"speed\": speed_limit,\n",
    "                  \"from\": \"right\", \"to\": \"center\", \"length\": edgelen},\n",
    "                 {\"id\": \"CB\", \"numLanes\": lanes, \"speed\": speed_limit,\n",
    "                  \"from\": \"center\", \"to\": \"bottom\", \"length\": edgelen},\n",
    "                 {\"id\": \"CT\", \"numLanes\": lanes, \"speed\": speed_limit,\n",
    "                  \"from\": \"center\", \"to\": \"top\", \"length\": edgelen},\n",
    "                 {\"id\": \"CL\", \"numLanes\": lanes, \"speed\": speed_limit,\n",
    "                  \"from\": \"center\", \"to\": \"left\", \"length\": edgelen},\n",
    "                 {\"id\": \"CR\", \"numLanes\": lanes, \"speed\": speed_limit,\n",
    "                  \"from\": \"center\", \"to\": \"right\", \"length\": edgelen}]\n",
    "\n",
    "        return edges"
   ]
  },
  {
   "cell_type": "markdown",
   "metadata": {},
   "source": [
    "# specify connections"
   ]
  },
  {
   "cell_type": "code",
   "execution_count": 6,
   "metadata": {},
   "outputs": [],
   "source": [
    "class kruispuntc(kruispuntc):\n",
    "    def specify_connections(self, net_params):\n",
    "        conn = []\n",
    "        conn += [\n",
    "                     {\"from\": \"TC\",\n",
    "                      \"to\": \"CB\",\n",
    "                      \"fromLane\": \"0\",\n",
    "                      \"toLane\": \"0\"}]\n",
    "        conn += [\n",
    "                     {\"from\": \"BC\",\n",
    "                      \"to\": \"CT\",\n",
    "                      \"fromLane\": \"0\",\n",
    "                      \"toLane\": \"0\"}]\n",
    "        conn += [\n",
    "                     {\"from\": \"LC\",\n",
    "                      \"to\": \"CR\",\n",
    "                      \"fromLane\": \"0\",\n",
    "                      \"toLane\": \"0\"}]\n",
    "        conn += [\n",
    "                     {\"from\": \"RC\",\n",
    "                      \"to\": \"CL\",\n",
    "                      \"fromLane\": \"0\",\n",
    "                      \"toLane\": \"0\"}]\n",
    "        return conn"
   ]
  },
  {
   "cell_type": "markdown",
   "metadata": {},
   "source": [
    "# specify routes"
   ]
  },
  {
   "cell_type": "code",
   "execution_count": 7,
   "metadata": {},
   "outputs": [],
   "source": [
    " class kruispuntc(kruispuntc):\n",
    "    def specify_routes(self, net_params):\n",
    "        rts = {\"TC\": [\"TC\", \"CB\"],\n",
    "               \"BC\": [\"BC\", \"CT\"],\n",
    "               \"LC\": [\"LC\", \"CR\"],\n",
    "               \"RC\": [\"RC\", \"CL\"],\n",
    "               \"CB\": [\"CB\"],\n",
    "               \"CT\": [\"CT\"],\n",
    "               \"CR\": [\"CR\"],\n",
    "               \"CL\": [\"CL\"]}\n",
    "        return rts"
   ]
  },
  {
   "cell_type": "code",
   "execution_count": 8,
   "metadata": {},
   "outputs": [],
   "source": [
    " class kruispuntc(kruispuntc):\n",
    "    def specify_edge_starts(self):\n",
    "\n",
    "        edgestarts = [(\"TC\", 0),\n",
    "                      (\"CB\", 40),(\"CL\", 40),(\"CR\", 40)]\n",
    "        \n",
    "        return edgestarts"
   ]
  },
  {
   "cell_type": "markdown",
   "metadata": {},
   "source": [
    "# traffic lights"
   ]
  },
  {
   "cell_type": "code",
   "execution_count": 9,
   "metadata": {},
   "outputs": [],
   "source": [
    "tl_logic = TrafficLightParams()\n",
    "nodes = [\"center\"]\n",
    "phases = [{\"duration\": \"2\", \"state\": \"GGGrrrGGGrrr\"},\n",
    "          {\"duration\": \"2\", \"state\": \"yyyrrryyyrrr\"},\n",
    "          {\"duration\": \"2\", \"state\": \"rrrGGGrrrGGG\"},\n",
    "          {\"duration\": \"2\", \"state\": \"rrryyyrrryyy\"}]\n",
    "for node_id in nodes:\n",
    "    tl_logic.add(node_id, tls_type=\"static\", programID=\"1\", offset=None, phases=phases)"
   ]
  },
  {
   "cell_type": "markdown",
   "metadata": {},
   "source": [
    "# Testing the cenario"
   ]
  },
  {
   "cell_type": "code",
   "execution_count": 10,
   "metadata": {},
   "outputs": [],
   "source": [
    "from flow.core.params import VehicleParams\n",
    "from flow.controllers import IDMController, GridRouter\n",
    "from flow.core.params import SumoParams, EnvParams, InitialConfig, NetParams\n",
    "\n",
    "vehicles = VehicleParams()\n",
    "vehicles.add(veh_id=\"human\",\n",
    "             acceleration_controller=(IDMController, {}),\n",
    "             routing_controller=(GridRouter, {}),\n",
    "             num_vehicles=2)\n",
    "sumo_params = SumoParams(sim_step=0.1, render=True)\n",
    "\n",
    "initial_config = InitialConfig(bunching=40)"
   ]
  },
  {
   "cell_type": "code",
   "execution_count": 11,
   "metadata": {},
   "outputs": [],
   "source": [
    "from flow.envs.loop.loop_accel import AccelEnv, ADDITIONAL_ENV_PARAMS\n",
    "\n",
    "env_params = EnvParams(additional_params=ADDITIONAL_ENV_PARAMS)"
   ]
  },
  {
   "cell_type": "code",
   "execution_count": 12,
   "metadata": {},
   "outputs": [],
   "source": [
    "additional_net_params = ADDITIONAL_NET_PARAMS.copy()\n",
    "net_params = NetParams(additional_params=additional_net_params)"
   ]
  },
  {
   "cell_type": "code",
   "execution_count": 13,
   "metadata": {},
   "outputs": [
    {
     "name": "stdout",
     "output_type": "stream",
     "text": [
      "Error during start: Traceback (most recent call last):\n",
      "  File \"/home/timo/BAP/Github/flow/flow/core/kernel/simulation/traci.py\", line 154, in start_simulation\n",
      "    traci_connection.setOrder(0)\n",
      "  File \"/home/timo/sumo/tools/traci/connection.py\", line 300, in setOrder\n",
      "    self._sendExact()\n",
      "  File \"/home/timo/sumo/tools/traci/connection.py\", line 97, in _sendExact\n",
      "    raise FatalTraCIError(\"connection closed by SUMO\")\n",
      "traci.exceptions.FatalTraCIError: connection closed by SUMO\n",
      "\n"
     ]
    },
    {
     "ename": "KeyboardInterrupt",
     "evalue": "",
     "output_type": "error",
     "traceback": [
      "\u001b[0;31m---------------------------------------------------------------------------\u001b[0m",
      "\u001b[0;31mKeyboardInterrupt\u001b[0m                         Traceback (most recent call last)",
      "\u001b[0;32m<ipython-input-13-662808ac1d85>\u001b[0m in \u001b[0;36m<module>\u001b[0;34m\u001b[0m\n\u001b[1;32m     10\u001b[0m \u001b[0;34m\u001b[0m\u001b[0m\n\u001b[1;32m     11\u001b[0m \u001b[0;31m# AccelEnv allows us to test any newly generated scenario quickly\u001b[0m\u001b[0;34m\u001b[0m\u001b[0;34m\u001b[0m\u001b[0m\n\u001b[0;32m---> 12\u001b[0;31m \u001b[0menv\u001b[0m \u001b[0;34m=\u001b[0m \u001b[0mAccelEnv\u001b[0m\u001b[0;34m(\u001b[0m\u001b[0menv_params\u001b[0m\u001b[0;34m,\u001b[0m \u001b[0msumo_params\u001b[0m\u001b[0;34m,\u001b[0m \u001b[0mscenario\u001b[0m\u001b[0;34m)\u001b[0m\u001b[0;34m\u001b[0m\u001b[0m\n\u001b[0m\u001b[1;32m     13\u001b[0m \u001b[0;34m\u001b[0m\u001b[0m\n\u001b[1;32m     14\u001b[0m \u001b[0mexp\u001b[0m \u001b[0;34m=\u001b[0m \u001b[0mExperiment\u001b[0m\u001b[0;34m(\u001b[0m\u001b[0menv\u001b[0m\u001b[0;34m)\u001b[0m\u001b[0;34m\u001b[0m\u001b[0m\n",
      "\u001b[0;32m~/BAP/Github/flow/flow/envs/loop/loop_accel.py\u001b[0m in \u001b[0;36m__init__\u001b[0;34m(self, env_params, sim_params, scenario, simulator)\u001b[0m\n\u001b[1;32m     68\u001b[0m         \u001b[0mself\u001b[0m\u001b[0;34m.\u001b[0m\u001b[0mabsolute_position\u001b[0m \u001b[0;34m=\u001b[0m \u001b[0mdict\u001b[0m\u001b[0;34m(\u001b[0m\u001b[0;34m)\u001b[0m\u001b[0;34m\u001b[0m\u001b[0m\n\u001b[1;32m     69\u001b[0m \u001b[0;34m\u001b[0m\u001b[0m\n\u001b[0;32m---> 70\u001b[0;31m         \u001b[0msuper\u001b[0m\u001b[0;34m(\u001b[0m\u001b[0;34m)\u001b[0m\u001b[0;34m.\u001b[0m\u001b[0m__init__\u001b[0m\u001b[0;34m(\u001b[0m\u001b[0menv_params\u001b[0m\u001b[0;34m,\u001b[0m \u001b[0msim_params\u001b[0m\u001b[0;34m,\u001b[0m \u001b[0mscenario\u001b[0m\u001b[0;34m,\u001b[0m \u001b[0msimulator\u001b[0m\u001b[0;34m)\u001b[0m\u001b[0;34m\u001b[0m\u001b[0m\n\u001b[0m\u001b[1;32m     71\u001b[0m \u001b[0;34m\u001b[0m\u001b[0m\n\u001b[1;32m     72\u001b[0m     \u001b[0;34m@\u001b[0m\u001b[0mproperty\u001b[0m\u001b[0;34m\u001b[0m\u001b[0m\n",
      "\u001b[0;32m~/BAP/Github/flow/flow/envs/base_env.py\u001b[0m in \u001b[0;36m__init__\u001b[0;34m(self, env_params, sim_params, scenario, simulator)\u001b[0m\n\u001b[1;32m    132\u001b[0m         \u001b[0;31m# needs to be simulated.\u001b[0m\u001b[0;34m\u001b[0m\u001b[0;34m\u001b[0m\u001b[0m\n\u001b[1;32m    133\u001b[0m         kernel_api = self.k.simulation.start_simulation(\n\u001b[0;32m--> 134\u001b[0;31m             scenario=self.k.scenario, sim_params=sim_params)\n\u001b[0m\u001b[1;32m    135\u001b[0m \u001b[0;34m\u001b[0m\u001b[0m\n\u001b[1;32m    136\u001b[0m         \u001b[0;31m# pass the kernel api to the kernel and it's subclasses\u001b[0m\u001b[0;34m\u001b[0m\u001b[0;34m\u001b[0m\u001b[0m\n",
      "\u001b[0;32m~/BAP/Github/flow/flow/core/kernel/simulation/traci.py\u001b[0m in \u001b[0;36mstart_simulation\u001b[0;34m(self, scenario, sim_params)\u001b[0m\n\u001b[1;32m    152\u001b[0m \u001b[0;34m\u001b[0m\u001b[0m\n\u001b[1;32m    153\u001b[0m                 \u001b[0mtraci_connection\u001b[0m \u001b[0;34m=\u001b[0m \u001b[0mtraci\u001b[0m\u001b[0;34m.\u001b[0m\u001b[0mconnect\u001b[0m\u001b[0;34m(\u001b[0m\u001b[0mport\u001b[0m\u001b[0;34m,\u001b[0m \u001b[0mnumRetries\u001b[0m\u001b[0;34m=\u001b[0m\u001b[0;36m100\u001b[0m\u001b[0;34m)\u001b[0m\u001b[0;34m\u001b[0m\u001b[0m\n\u001b[0;32m--> 154\u001b[0;31m                 \u001b[0mtraci_connection\u001b[0m\u001b[0;34m.\u001b[0m\u001b[0msetOrder\u001b[0m\u001b[0;34m(\u001b[0m\u001b[0;36m0\u001b[0m\u001b[0;34m)\u001b[0m\u001b[0;34m\u001b[0m\u001b[0m\n\u001b[0m\u001b[1;32m    155\u001b[0m                 \u001b[0mtraci_connection\u001b[0m\u001b[0;34m.\u001b[0m\u001b[0msimulationStep\u001b[0m\u001b[0;34m(\u001b[0m\u001b[0;34m)\u001b[0m\u001b[0;34m\u001b[0m\u001b[0m\n\u001b[1;32m    156\u001b[0m \u001b[0;34m\u001b[0m\u001b[0m\n",
      "\u001b[0;32m~/sumo/tools/traci/connection.py\u001b[0m in \u001b[0;36msetOrder\u001b[0;34m(self, order)\u001b[0m\n\u001b[1;32m    298\u001b[0m         \u001b[0mself\u001b[0m\u001b[0;34m.\u001b[0m\u001b[0m_queue\u001b[0m\u001b[0;34m.\u001b[0m\u001b[0mappend\u001b[0m\u001b[0;34m(\u001b[0m\u001b[0mtc\u001b[0m\u001b[0;34m.\u001b[0m\u001b[0mCMD_SETORDER\u001b[0m\u001b[0;34m)\u001b[0m\u001b[0;34m\u001b[0m\u001b[0m\n\u001b[1;32m    299\u001b[0m         \u001b[0mself\u001b[0m\u001b[0;34m.\u001b[0m\u001b[0m_string\u001b[0m \u001b[0;34m+=\u001b[0m \u001b[0mstruct\u001b[0m\u001b[0;34m.\u001b[0m\u001b[0mpack\u001b[0m\u001b[0;34m(\u001b[0m\u001b[0;34m\"!BBi\"\u001b[0m\u001b[0;34m,\u001b[0m \u001b[0;36m1\u001b[0m \u001b[0;34m+\u001b[0m \u001b[0;36m1\u001b[0m \u001b[0;34m+\u001b[0m \u001b[0;36m4\u001b[0m\u001b[0;34m,\u001b[0m \u001b[0mtc\u001b[0m\u001b[0;34m.\u001b[0m\u001b[0mCMD_SETORDER\u001b[0m\u001b[0;34m,\u001b[0m \u001b[0morder\u001b[0m\u001b[0;34m)\u001b[0m\u001b[0;34m\u001b[0m\u001b[0m\n\u001b[0;32m--> 300\u001b[0;31m         \u001b[0mself\u001b[0m\u001b[0;34m.\u001b[0m\u001b[0m_sendExact\u001b[0m\u001b[0;34m(\u001b[0m\u001b[0;34m)\u001b[0m\u001b[0;34m\u001b[0m\u001b[0m\n\u001b[0m\u001b[1;32m    301\u001b[0m \u001b[0;34m\u001b[0m\u001b[0m\n\u001b[1;32m    302\u001b[0m     \u001b[0;32mdef\u001b[0m \u001b[0mclose\u001b[0m\u001b[0;34m(\u001b[0m\u001b[0mself\u001b[0m\u001b[0;34m,\u001b[0m \u001b[0mwait\u001b[0m\u001b[0;34m=\u001b[0m\u001b[0;32mTrue\u001b[0m\u001b[0;34m)\u001b[0m\u001b[0;34m:\u001b[0m\u001b[0;34m\u001b[0m\u001b[0m\n",
      "\u001b[0;32m~/sumo/tools/traci/connection.py\u001b[0m in \u001b[0;36m_sendExact\u001b[0;34m(self)\u001b[0m\n\u001b[1;32m     91\u001b[0m             \u001b[0mlength\u001b[0m \u001b[0;34m=\u001b[0m \u001b[0mstruct\u001b[0m\u001b[0;34m.\u001b[0m\u001b[0mpack\u001b[0m\u001b[0;34m(\u001b[0m\u001b[0;34m\"!i\"\u001b[0m\u001b[0;34m,\u001b[0m \u001b[0mlen\u001b[0m\u001b[0;34m(\u001b[0m\u001b[0mself\u001b[0m\u001b[0;34m.\u001b[0m\u001b[0m_string\u001b[0m\u001b[0;34m)\u001b[0m \u001b[0;34m+\u001b[0m \u001b[0;36m4\u001b[0m\u001b[0;34m)\u001b[0m\u001b[0;34m\u001b[0m\u001b[0m\n\u001b[1;32m     92\u001b[0m             \u001b[0mself\u001b[0m\u001b[0;34m.\u001b[0m\u001b[0m_socket\u001b[0m\u001b[0;34m.\u001b[0m\u001b[0msend\u001b[0m\u001b[0;34m(\u001b[0m\u001b[0mlength\u001b[0m \u001b[0;34m+\u001b[0m \u001b[0mself\u001b[0m\u001b[0;34m.\u001b[0m\u001b[0m_string\u001b[0m\u001b[0;34m)\u001b[0m\u001b[0;34m\u001b[0m\u001b[0m\n\u001b[0;32m---> 93\u001b[0;31m             \u001b[0mresult\u001b[0m \u001b[0;34m=\u001b[0m \u001b[0mself\u001b[0m\u001b[0;34m.\u001b[0m\u001b[0m_recvExact\u001b[0m\u001b[0;34m(\u001b[0m\u001b[0;34m)\u001b[0m\u001b[0;34m\u001b[0m\u001b[0m\n\u001b[0m\u001b[1;32m     94\u001b[0m         \u001b[0;32mif\u001b[0m \u001b[0;32mnot\u001b[0m \u001b[0mresult\u001b[0m\u001b[0;34m:\u001b[0m\u001b[0;34m\u001b[0m\u001b[0m\n\u001b[1;32m     95\u001b[0m             \u001b[0mself\u001b[0m\u001b[0;34m.\u001b[0m\u001b[0m_socket\u001b[0m\u001b[0;34m.\u001b[0m\u001b[0mclose\u001b[0m\u001b[0;34m(\u001b[0m\u001b[0;34m)\u001b[0m\u001b[0;34m\u001b[0m\u001b[0m\n",
      "\u001b[0;32m~/sumo/tools/traci/connection.py\u001b[0m in \u001b[0;36m_recvExact\u001b[0;34m(self)\u001b[0m\n\u001b[1;32m     70\u001b[0m             \u001b[0mresult\u001b[0m \u001b[0;34m=\u001b[0m \u001b[0mbytes\u001b[0m\u001b[0;34m(\u001b[0m\u001b[0;34m)\u001b[0m\u001b[0;34m\u001b[0m\u001b[0m\n\u001b[1;32m     71\u001b[0m             \u001b[0;32mwhile\u001b[0m \u001b[0mlen\u001b[0m\u001b[0;34m(\u001b[0m\u001b[0mresult\u001b[0m\u001b[0;34m)\u001b[0m \u001b[0;34m<\u001b[0m \u001b[0;36m4\u001b[0m\u001b[0;34m:\u001b[0m\u001b[0;34m\u001b[0m\u001b[0m\n\u001b[0;32m---> 72\u001b[0;31m                 \u001b[0mt\u001b[0m \u001b[0;34m=\u001b[0m \u001b[0mself\u001b[0m\u001b[0;34m.\u001b[0m\u001b[0m_socket\u001b[0m\u001b[0;34m.\u001b[0m\u001b[0mrecv\u001b[0m\u001b[0;34m(\u001b[0m\u001b[0;36m4\u001b[0m \u001b[0;34m-\u001b[0m \u001b[0mlen\u001b[0m\u001b[0;34m(\u001b[0m\u001b[0mresult\u001b[0m\u001b[0;34m)\u001b[0m\u001b[0;34m)\u001b[0m\u001b[0;34m\u001b[0m\u001b[0m\n\u001b[0m\u001b[1;32m     73\u001b[0m                 \u001b[0;32mif\u001b[0m \u001b[0;32mnot\u001b[0m \u001b[0mt\u001b[0m\u001b[0;34m:\u001b[0m\u001b[0;34m\u001b[0m\u001b[0m\n\u001b[1;32m     74\u001b[0m                     \u001b[0;32mreturn\u001b[0m \u001b[0;32mNone\u001b[0m\u001b[0;34m\u001b[0m\u001b[0m\n",
      "\u001b[0;31mKeyboardInterrupt\u001b[0m: "
     ]
    }
   ],
   "source": [
    "from flow.core.experiment import Experiment\n",
    "\n",
    "scenario = kruispuntc(  # we use the newly defined scenario class\n",
    "    name=\"kruispunt-test\",\n",
    "    vehicles=vehicles,\n",
    "    net_params=net_params,\n",
    "    initial_config=initial_config,\n",
    "    traffic_lights=tl_logic\n",
    ")\n",
    "\n",
    "# AccelEnv allows us to test any newly generated scenario quickly\n",
    "env = AccelEnv(env_params, sumo_params, scenario)\n",
    "\n",
    "exp = Experiment(env)\n",
    "\n",
    "# run the sumo simulation for a set number of time steps\n",
    "_ = exp.run(1, 8000)"
   ]
  },
  {
   "cell_type": "code",
   "execution_count": null,
   "metadata": {},
   "outputs": [],
   "source": []
  }
 ],
 "metadata": {
  "kernelspec": {
   "display_name": "Python 3",
   "language": "python",
   "name": "python3"
  },
  "language_info": {
   "codemirror_mode": {
    "name": "ipython",
    "version": 3
   },
   "file_extension": ".py",
   "mimetype": "text/x-python",
   "name": "python",
   "nbconvert_exporter": "python",
   "pygments_lexer": "ipython3",
   "version": "3.5.2"
  }
 },
 "nbformat": 4,
 "nbformat_minor": 2
}
